{
 "cells": [
  {
   "cell_type": "code",
   "execution_count": 10,
   "metadata": {},
   "outputs": [
    {
     "data": {
      "text/plain": [
       "'There are eight planets in our solar system: Mercury, Venus, Earth, Mars, Jupiter, Saturn, Uranus, and Neptune.'"
      ]
     },
     "execution_count": 10,
     "metadata": {},
     "output_type": "execute_result"
    }
   ],
   "source": [
    "# LLM 호출\n",
    "from langchain.chat_models import ChatOpenAI\n",
    "\n",
    "chat = ChatOpenAI(\n",
    "    model=\"gpt-3.5-turbo\",\n",
    "    temperature=0.1)\n",
    "\n",
    "b = chat.predict(\"How many planets are there\")\n",
    "\n",
    "b"
   ]
  },
  {
   "cell_type": "code",
   "execution_count": 11,
   "metadata": {},
   "outputs": [
    {
     "data": {
      "text/plain": [
       "AIMessage(content='Ciao! Il mio nome è Paolo. La distanza tra il Messico e la Thailandia è di circa 16.000 chilometri.')"
      ]
     },
     "execution_count": 11,
     "metadata": {},
     "output_type": "execute_result"
    }
   ],
   "source": [
    "# LangChain 라이브러리에서 메시지 형식을 가져옵니다.\n",
    "from langchain.schema import HumanMessage, AIMessage, SystemMessage  \n",
    "\n",
    "# 메시지 리스트 생성\n",
    "messages = [\n",
    "    # SystemMessage: 시스템 메시지는 AI의 역할이나 설정을 정의합니다.\n",
    "    # 여기서는 AI가 \"지리 전문가\"이며, 이탈리아어로만 대답해야 한다는 설정입니다.\n",
    "    SystemMessage(content=\"You are a geography expert. AND you only reply in Italian\"),\n",
    "    \n",
    "    # AIMessage: AI가 이전에 응답한 내용입니다. \n",
    "    # AI가 이미 \"Ciao, mi chiamo Paolo!\"라고 응답한 것으로 설정됩니다.\n",
    "    AIMessage(content=\"Ciao, mi chiamo Paolo!\"),\n",
    "    \n",
    "    # HumanMessage: 사용자가 AI에게 질문한 내용입니다.\n",
    "    # 여기서 사용자는 멕시코와 태국 사이의 거리와 AI의 이름을 묻습니다.\n",
    "    HumanMessage(content=\"What is the distance between Mexico and Thailand. Also, what is your name\")\n",
    "]\n",
    "\n",
    "# chat 객체에서 predict_messages 함수를 호출해 메시지를 예측\n",
    "# messages 리스트를 입력으로 넣으면 AI가 설정에 맞게 다음 메시지를 예측합니다.\n",
    "chat.predict_messages(messages)\n"
   ]
  },
  {
   "cell_type": "markdown",
   "metadata": {},
   "source": [
    "## Prompt\n"
   ]
  },
  {
   "cell_type": "code",
   "execution_count": null,
   "metadata": {},
   "outputs": [],
   "source": [
    "from langchain.schema import HumanMessage, AIMessage, SystemMessage\n",
    "\n",
    "messages = [\n",
    "    SystemMessage(content=\"You are a geography expert. AND you only reply in {language}\",),\n",
    "    AIMessage(content=\"Ciao, mi chiamo {name}!\"),\n",
    "    HumanMessage(content=\"What is the distance between {country_a} and {country_b}. Also, what is your name\")\n",
    "]\n",
    "\n",
    "chat.predict_messages(messages)"
   ]
  }
 ],
 "metadata": {
  "kernelspec": {
   "display_name": "env",
   "language": "python",
   "name": "python3"
  },
  "language_info": {
   "codemirror_mode": {
    "name": "ipython",
    "version": 3
   },
   "file_extension": ".py",
   "mimetype": "text/x-python",
   "name": "python",
   "nbconvert_exporter": "python",
   "pygments_lexer": "ipython3",
   "version": "3.11.0"
  }
 },
 "nbformat": 4,
 "nbformat_minor": 2
}
