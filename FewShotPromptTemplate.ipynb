{
 "cells": [
  {
   "cell_type": "markdown",
   "metadata": {},
   "source": [
    "**Fewshot**\n",
    "* 모델이 작업을 수행하거나 매우 제한적인 레이블이 지정된 데이터를 사용하여 새로운 작업에 적응하도록 학습되는 기계 학습 접근 방식"
   ]
  },
  {
   "cell_type": "code",
   "execution_count": 10,
   "metadata": {},
   "outputs": [
    {
     "name": "stdout",
     "output_type": "stream",
     "text": [
      "\n",
      "AI: \n",
      "I know this:\n",
      "Capital: Seoul\n",
      "Language: Korean\n",
      "Food: Kimchi and Bibimbap\n",
      "Currency: South Korean Won"
     ]
    },
    {
     "data": {
      "text/plain": [
       "AIMessageChunk(content='\\nAI: \\nI know this:\\nCapital: Seoul\\nLanguage: Korean\\nFood: Kimchi and Bibimbap\\nCurrency: South Korean Won')"
      ]
     },
     "execution_count": 10,
     "metadata": {},
     "output_type": "execute_result"
    }
   ],
   "source": [
    "from langchain.chat_models import ChatOpenAI\n",
    "from langchain.prompts import ChatPromptTemplate\n",
    "from langchain.prompts.few_shot import FewShotPromptTemplate\n",
    "from langchain.callbacks import StreamingStdOutCallbackHandler\n",
    "from langchain.prompts.prompt import PromptTemplate\n",
    "\n",
    "# Chat 모델 초기화\n",
    "chat = ChatOpenAI(temperature=0.1, streaming=True, callbacks=[StreamingStdOutCallbackHandler()])\n",
    "\n",
    "examples = [\n",
    "{\n",
    "\"question\": \"What do you know about France?\",\n",
    "\"answer\": \"\"\"\n",
    "Here is what I know:\n",
    "Capital: Paris\n",
    "Language: French\n",
    "Food: Wine and Cheese\n",
    "Currency: Euro\n",
    "\"\"\",\n",
    "},\n",
    "{\n",
    "\"question\": \"What do you know about Italy?\",\n",
    "\"answer\": \"\"\"\n",
    "I know this:\n",
    "Capital: Rome\n",
    "Language: Italian\n",
    "Food: Pizza and Pasta\n",
    "Currency: Euro\n",
    "\"\"\",\n",
    "},\n",
    "{\n",
    "\"question\": \"What do you know about Greece?\",\n",
    "\"answer\": \"\"\"\n",
    "I know this:\n",
    "Capital: Athens\n",
    "Language: Greek\n",
    "Food: Souvlaki and Feta Cheese\n",
    "Currency: Euro\n",
    "\"\"\",\n",
    "},\n",
    "]\n",
    "\n",
    "example_template = \"\"\"\n",
    "    Human: {question}\n",
    "    AI : {answer}\n",
    "\"\"\"\n",
    "\n",
    "example_prompt = PromptTemplate.from_template(\"Human: {question}\\n AI:{answer}\")\n",
    "\n",
    "prompt = FewShotPromptTemplate(\n",
    "    example_prompt=example_prompt,\n",
    "    examples=examples,\n",
    "    suffix=\"Human: What do you know about {country}?\",\n",
    "    input_variables=[\"country\"],\n",
    ")\n",
    "\n",
    "chain = prompt | chat\n",
    "\n",
    "chain.invoke({\n",
    "    \"country\": \"Korea\"\n",
    "})"
   ]
  },
  {
   "cell_type": "markdown",
   "metadata": {},
   "source": [
    "### FewShot 을 이용한 챗봇"
   ]
  },
  {
   "cell_type": "code",
   "execution_count": 12,
   "metadata": {},
   "outputs": [
    {
     "name": "stdout",
     "output_type": "stream",
     "text": [
      "I know this:\n",
      "Capital: Washington D.C.\n",
      "Language: English\n",
      "Food: Burgers and Hotdogs\n",
      "Currency: US Dollar"
     ]
    },
    {
     "data": {
      "text/plain": [
       "AIMessageChunk(content='I know this:\\nCapital: Washington D.C.\\nLanguage: English\\nFood: Burgers and Hotdogs\\nCurrency: US Dollar')"
      ]
     },
     "execution_count": 12,
     "metadata": {},
     "output_type": "execute_result"
    }
   ],
   "source": [
    "from langchain.chat_models import ChatOpenAI\n",
    "from langchain.prompts.few_shot import FewShotChatMessagePromptTemplate\n",
    "from langchain.callbacks import StreamingStdOutCallbackHandler\n",
    "from langchain.prompts import ChatMessagePromptTemplate, ChatPromptTemplate\n",
    "\n",
    "# Chat 모델 초기화\n",
    "chat = ChatOpenAI(temperature=0.1, streaming=True, callbacks=[StreamingStdOutCallbackHandler()])\n",
    "\n",
    "examples = [\n",
    "{\n",
    "\"country\": \"France?\",\n",
    "\"answer\": \"\"\"\n",
    "Here is what I know:\n",
    "Capital: Paris\n",
    "Language: French\n",
    "Food: Wine and Cheese\n",
    "Currency: Euro\n",
    "\"\"\",\n",
    "},\n",
    "{\n",
    "\"country\": \"Italy?\",\n",
    "\"answer\": \"\"\"\n",
    "I know this:\n",
    "Capital: Rome\n",
    "Language: Italian\n",
    "Food: Pizza and Pasta\n",
    "Currency: Euro\n",
    "\"\"\",\n",
    "},\n",
    "{\n",
    "\"country\": \"Greece?\",\n",
    "\"answer\": \"\"\"\n",
    "I know this:\n",
    "Capital: Athens\n",
    "Language: Greek\n",
    "Food: Souvlaki and Feta Cheese\n",
    "Currency: Euro\n",
    "\"\"\",\n",
    "},\n",
    "]\n",
    "\n",
    "# 형식 지정\n",
    "example_prompt = ChatPromptTemplate.from_messages([\n",
    "    (\"human\", \"what do you know about {country}?\"),\n",
    "    (\"ai\", \"{answer}\")\n",
    "])\n",
    "\n",
    "example_prompt = FewShotChatMessagePromptTemplate(\n",
    "    example_prompt=example_prompt,\n",
    "    examples=examples,\n",
    ")\n",
    "\n",
    "final_prompt = ChatPromptTemplate.from_messages([\n",
    "    (\"system\", \"You are a geography expert\"),\n",
    "    example_prompt,\n",
    "    (\"human\", \"What do you know about {country}?\")\n",
    "])\n",
    "chain = final_prompt | chat\n",
    "\n",
    "chain.invoke({\n",
    "    \"country\": \"America\"\n",
    "})"
   ]
  },
  {
   "cell_type": "markdown",
   "metadata": {},
   "source": [
    "## LengthBasedExampleSelector"
   ]
  },
  {
   "cell_type": "code",
   "execution_count": 22,
   "metadata": {},
   "outputs": [
    {
     "name": "stdout",
     "output_type": "stream",
     "text": [
      "Human: What do you know about Italy?\n",
      "AI:\n",
      "        I know this:\n",
      "        Capital: Rome\n",
      "        Language: Italian\n",
      "        Food: Pizza and Pasta\n",
      "        Currency: Euro\n",
      "        \n",
      "\n",
      "Human: What do you know about Brazil?\n"
     ]
    }
   ],
   "source": [
    "from langchain.chat_models import ChatOpenAI\n",
    "from langchain.prompts import example_selector\n",
    "from langchain.prompts.few_shot import FewShotPromptTemplate\n",
    "from langchain.callbacks import StreamingStdOutCallbackHandler\n",
    "from langchain.prompts.prompt import PromptTemplate\n",
    "from langchain.prompts.example_selector.base import BaseExampleSelector\n",
    "\n",
    "chat = ChatOpenAI(\n",
    "    temperature=0.1,\n",
    "    streaming=True,\n",
    "    callbacks=[\n",
    "        StreamingStdOutCallbackHandler(),\n",
    "    ],\n",
    ")\n",
    "\n",
    "\n",
    "examples = [\n",
    "    {\n",
    "        \"question\": \"What do you know about France?\",\n",
    "        \"answer\": \"\"\"\n",
    "        Here is what I know:\n",
    "        Capital: Paris\n",
    "        Language: French\n",
    "        Food: Wine and Cheese\n",
    "        Currency: Euro\n",
    "        \"\"\",\n",
    "    },\n",
    "    {\n",
    "        \"question\": \"What do you know about Italy?\",\n",
    "        \"answer\": \"\"\"\n",
    "        I know this:\n",
    "        Capital: Rome\n",
    "        Language: Italian\n",
    "        Food: Pizza and Pasta\n",
    "        Currency: Euro\n",
    "        \"\"\",\n",
    "    },\n",
    "    {\n",
    "        \"question\": \"What do you know about Greece?\",\n",
    "        \"answer\": \"\"\"\n",
    "        I know this:\n",
    "        Capital: Athens\n",
    "        Language: Greek\n",
    "        Food: Souvlaki and Feta Cheese\n",
    "        Currency: Euro\n",
    "        \"\"\",\n",
    "    },\n",
    "]\n",
    "\n",
    "class RandomExampleSelector(BaseExampleSelector):\n",
    "    def __init__(self, examples):\n",
    "        self.examples = examples\n",
    "\n",
    "    def add_example(self, example):\n",
    "        self.examples.append(example)\n",
    "\n",
    "    def select_examples(self, input_variables):\n",
    "        from random import choice\n",
    "\n",
    "        return [choice(self.examples)]\n",
    "\n",
    "\n",
    "example_prompt = PromptTemplate.from_template(\"Human: {question}\\nAI:{answer}\")\n",
    "\n",
    "example_selector = RandomExampleSelector(\n",
    "    examples=examples,\n",
    ")\n",
    "\n",
    "prompt = FewShotPromptTemplate(\n",
    "    example_prompt=example_prompt,\n",
    "    example_selector=example_selector,\n",
    "    suffix=\"Human: What do you know about {country}?\",\n",
    "    input_variables=[\"country\"],\n",
    ")\n",
    "\n",
    "#prompt.format(country=\"Brazil\")\n",
    "# 프롬프트 형식화\n",
    "output = prompt.format(country=\"Brazil\")\n",
    "print(output)\n"
   ]
  },
  {
   "cell_type": "markdown",
   "metadata": {},
   "source": [
    "### 챌린지\n",
    "* 영화 이름을 가지고 감독, 주요 출연진, 예산, 흥행 수익, 영화의 장르, 간단한 시놉시스 등 영화에 대한 정보로 답장하는 체인을 만드세요.\n",
    "* LLM은 항상 동일한 형식을 사용하여 응답해야 하며, 이를 위해서는 원하는 출력의 예시를 LLM에 제공해야 합니다.\n",
    "* 예제를 제공하려면 FewShotPromptTemplate 또는 FewShotChatMessagePromptTemplate을 사용하세요.\n"
   ]
  },
  {
   "cell_type": "code",
   "execution_count": 7,
   "metadata": {},
   "outputs": [
    {
     "name": "stdout",
     "output_type": "stream",
     "text": [
      "\"기생충\"은 2019년 개봉한 한국 영화로, 감독은 봉준호입니다. 이 영화는 송강호, 이선균, 조여정, 최우식 등이 출연했고, 코미디, 스릴러, 드라마 장르에 속합니다. \"기생충\"은 2019년 제 92회 아카데미상에서 최우식이 주연 남우조연상을 수상하며 한국 영화 최초로 아카데미상을 수상한 작품으로 큰 주목을 받았습니다."
     ]
    },
    {
     "data": {
      "text/plain": [
       "AIMessageChunk(content='\"기생충\"은 2019년 개봉한 한국 영화로, 감독은 봉준호입니다. 이 영화는 송강호, 이선균, 조여정, 최우식 등이 출연했고, 코미디, 스릴러, 드라마 장르에 속합니다. \"기생충\"은 2019년 제 92회 아카데미상에서 최우식이 주연 남우조연상을 수상하며 한국 영화 최초로 아카데미상을 수상한 작품으로 큰 주목을 받았습니다.')"
      ]
     },
     "execution_count": 7,
     "metadata": {},
     "output_type": "execute_result"
    }
   ],
   "source": [
    "from langchain.chat_models import ChatOpenAI\n",
    "from langchain.prompts.few_shot import FewShotChatMessagePromptTemplate\n",
    "from langchain.callbacks import StreamingStdOutCallbackHandler\n",
    "from langchain.prompts import ChatMessagePromptTemplate, ChatPromptTemplate\n",
    "\n",
    "# Chat 모델 초기화\n",
    "chat = ChatOpenAI(temperature=0.1, streaming=True, callbacks=[StreamingStdOutCallbackHandler()])\n",
    "\n",
    "examples = [\n",
    "{\n",
    "\"movie\": \"파묘?\",\n",
    "\"answer\": \"\"\"\n",
    "Here is what I know:\n",
    "Director: 장재현\n",
    "a production company: 쇼박스\n",
    "cast: 최민식, 김고은, 유해진, 이도현\n",
    "Genre: 공포 \n",
    "\"\"\",\n",
    "},\n",
    "{\n",
    "\"movie\": \"하얼빈?\",\n",
    "\"answer\": \"\"\"\n",
    "I know this:\n",
    "Director: 홍경표\n",
    "a production company: CJ ENM\n",
    "cast: 현빈, 이동욱, 박훈\n",
    "Genre: 액션, 스릴러, 느와르\n",
    "\"\"\",\n",
    "},\n",
    "{\n",
    "\"movie\": \"보고타?\",\n",
    "\"answer\": \"\"\"\n",
    "I know this:\n",
    "Director: 김성제\n",
    "a production company: IDIOPLAN\n",
    "cast: 송중기, 히의준, 크리스탈 아파리시오\n",
    "Genre: 스릴러, 범죄물\n",
    "\"\"\",\n",
    "},\n",
    "]\n",
    "\n",
    "# 형식 지정\n",
    "example_prompt = ChatPromptTemplate.from_messages([\n",
    "    (\"human\", \"{movie}에 대해서 무엇을 알고 있니??\"),\n",
    "    (\"ai\", \"{answer}\")\n",
    "])\n",
    "\n",
    "example_prompt = FewShotChatMessagePromptTemplate(\n",
    "    example_prompt=example_prompt,\n",
    "    examples=examples,\n",
    ")\n",
    "\n",
    "final_prompt = ChatPromptTemplate.from_messages([\n",
    "    (\"system\", \"당신은 영화 평론가(전문가) 입니다.\"),\n",
    "    example_prompt,\n",
    "    (\"human\", \"{movie}에 대해서 무엇을 알고 있니?\")\n",
    "])\n",
    "chain = final_prompt | chat\n",
    "\n",
    "chain.invoke({\n",
    "    \"movie\": \"기생충\"\n",
    "})"
   ]
  },
  {
   "cell_type": "code",
   "execution_count": 8,
   "metadata": {},
   "outputs": [
    {
     "name": "stdout",
     "output_type": "stream",
     "text": [
      "\"하얼빈\"은 2017년에 개봉한 한국 영화로, 홍경표 감독이 연출하였습니다. 영화의 주요 배우로는 현빈, 이동욱, 박훈 등이 출연했습니다. 이 영화는 액션, 스릴러, 느와르 장르에 속하며, 중국 하얼빈에서 벌어지는 범죄와 복수의 이야기를 다룹니다. 영화는 긴장감 넘치는 전투씬과 강렬한 액션으로 관객들을 매료시키며, 현실적인 연기와 몰입도 높은 스토리로 호평을 받았습니다."
     ]
    },
    {
     "data": {
      "text/plain": [
       "AIMessageChunk(content='\"하얼빈\"은 2017년에 개봉한 한국 영화로, 홍경표 감독이 연출하였습니다. 영화의 주요 배우로는 현빈, 이동욱, 박훈 등이 출연했습니다. 이 영화는 액션, 스릴러, 느와르 장르에 속하며, 중국 하얼빈에서 벌어지는 범죄와 복수의 이야기를 다룹니다. 영화는 긴장감 넘치는 전투씬과 강렬한 액션으로 관객들을 매료시키며, 현실적인 연기와 몰입도 높은 스토리로 호평을 받았습니다.')"
      ]
     },
     "execution_count": 8,
     "metadata": {},
     "output_type": "execute_result"
    }
   ],
   "source": [
    "chain.invoke({\n",
    "    \"movie\": \"하얼빈\"\n",
    "})"
   ]
  },
  {
   "cell_type": "code",
   "execution_count": 9,
   "metadata": {},
   "outputs": [
    {
     "name": "stdout",
     "output_type": "stream",
     "text": [
      "미션 임파서블 시리즈는 톰 크루즈가 주연으로 출연하는 액션 영화 시리즈로, 브라이언 데 팔마 감독이 연출하고 있습니다. 시리즈는 IMF(Impossible Mission Force)라는 비밀 요원 기관을 중심으로 한 다양한 스파이 액션을 다루고 있으며, 톰 크루즈가 주연인 이후에도 제레미 레너, 사이먼 페그, 레베카 퍼거슨 등이 시리즈에 출연하였습니다. 현재까지 6편의 영화가 제작되었고, 7편과 8편이 제작 중이며, 7편은 2022년에 개봉 예정입니다."
     ]
    },
    {
     "data": {
      "text/plain": [
       "AIMessageChunk(content='미션 임파서블 시리즈는 톰 크루즈가 주연으로 출연하는 액션 영화 시리즈로, 브라이언 데 팔마 감독이 연출하고 있습니다. 시리즈는 IMF(Impossible Mission Force)라는 비밀 요원 기관을 중심으로 한 다양한 스파이 액션을 다루고 있으며, 톰 크루즈가 주연인 이후에도 제레미 레너, 사이먼 페그, 레베카 퍼거슨 등이 시리즈에 출연하였습니다. 현재까지 6편의 영화가 제작되었고, 7편과 8편이 제작 중이며, 7편은 2022년에 개봉 예정입니다.')"
      ]
     },
     "execution_count": 9,
     "metadata": {},
     "output_type": "execute_result"
    }
   ],
   "source": [
    "chain.invoke({\n",
    "    \"movie\": \"미션임파서블\"\n",
    "})"
   ]
  },
  {
   "cell_type": "code",
   "execution_count": null,
   "metadata": {},
   "outputs": [],
   "source": []
  }
 ],
 "metadata": {
  "kernelspec": {
   "display_name": "env",
   "language": "python",
   "name": "python3"
  },
  "language_info": {
   "codemirror_mode": {
    "name": "ipython",
    "version": 3
   },
   "file_extension": ".py",
   "mimetype": "text/x-python",
   "name": "python",
   "nbconvert_exporter": "python",
   "pygments_lexer": "ipython3",
   "version": "3.11.0"
  }
 },
 "nbformat": 4,
 "nbformat_minor": 2
}
