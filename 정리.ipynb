{
 "cells": [
  {
   "cell_type": "markdown",
   "metadata": {},
   "source": [
    "### chatPrompt와 PromptTemplate의 차이\n",
    "* <span style=\"color: skyblue;\">ChatPromptTemplate</span>: 채팅 메시지를 포맷팅하기 위한 템플릿입니다. 주로 대화형 AI 모델에서 사용되며, 사용자의 입력에 따라 적절한 응답을 생성하기 위해 사용됩니다. 예를 들어, 고객 서비스 챗봇에서 사용자가 문의한 내용에 대한 답변을 생성할 때 ChatPromptTemplate을 사용하여 일관된 형식으로 응답을 제공할 수 있습니다.\n",
    "\n",
    "* <span style=\"color: skyblue;\">PromptTemplate</span>: 문자열을 포맷팅하기 위한 템플릿입니다. 이는 특정 형식이나 패턴을 따르는 문자열을 생성하는 데 사용됩니다. 예를 들어, 로그 메시지나 보고서 등에서 날짜, 시간, 기타 정보 등을 포함한 문자열을 생성할 때 PromptTemplate을 사용할 수 있습니다.\n",
    "\n",
    "### LCEL\n",
    "<span style=\"color: skyblue;\">LangChain Expression Language의 약자로, LangChain 프레임워크에서 사용되는 표현 언어</span>\n",
    "\n",
    "### few-shot example\n",
    "\n",
    "<span style=\"color: skyblue;\">LLM에게 출력 형식을 어떻게 포매팅할지 예시를 제공하기 위해 사용</span>\n",
    "\n",
    " "
   ]
  },
  {
   "cell_type": "markdown",
   "metadata": {},
   "source": [
    "### 문서 임배딩\n",
    "\n",
    "<span style=\"color: skyblue;\">텍스트 데이터를 백터 공간에 매핑하는 기술</span>\n"
   ]
  },
  {
   "cell_type": "markdown",
   "metadata": {},
   "source": [
    "### Vector Store\n",
    "<span style=\"color: skyblue;\">임베딩을 저장하고 검색하기 위해 사용</span>\n",
    "\n",
    "* 분산형 벡터 스토어\n",
    "    * 여러 대의 서버에 데이터를 분산 저장하여 처리 속도를 높이는 방식\n",
    "    * 대표적으로<p style=\"color: Green;\">Faiss, Annoy, ScaNN </p> \n",
    "* 중앙 집중형 벡터 스토어\n",
    "    * 한 대의 서버에 데이터를 저장하는 방식\n",
    "    * 대표적으로 <p style=\"color: Green;\"> Elasticsearch, Solr</p> "
   ]
  },
  {
   "cell_type": "markdown",
   "metadata": {},
   "source": []
  }
 ],
 "metadata": {
  "kernelspec": {
   "display_name": "env",
   "language": "python",
   "name": "python3"
  },
  "language_info": {
   "name": "python",
   "version": "3.11.0"
  }
 },
 "nbformat": 4,
 "nbformat_minor": 2
}
