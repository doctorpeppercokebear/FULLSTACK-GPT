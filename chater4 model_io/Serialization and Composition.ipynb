{
 "cells": [
  {
   "cell_type": "code",
   "execution_count": null,
   "id": "initial_id",
   "metadata": {
    "ExecuteTime": {
     "end_time": "2025-01-08T08:17:38.497347Z",
     "start_time": "2025-01-08T08:17:38.457484Z"
    },
    "collapsed": true
   },
   "outputs": [
    {
     "data": {
      "text/plain": [
       "'What is the capital of Germany'"
      ]
     },
     "execution_count": 1,
     "metadata": {},
     "output_type": "execute_result"
    }
   ],
   "source": [
    "from langchain.chat_models import ChatOpenAI\n",
    "from langchain.callbacks import StreamingStdOutCallbackHandler\n",
    "from langchain.prompts import load_prompt\n",
    "from langchain.prompts.pipelin import PipelinePromptTempalte\n",
    "\n",
    "prompt = load_prompt(\"./prompt.yaml\")\n",
    "\n",
    "chat = ChatOpenAI(\n",
    "    temperature=0.1,\n",
    "    streaming=True,\n",
    "    callbacks=[\n",
    "        StreamingStdOutCallbackHandler(),\n",
    "    ]\n",
    ")\n",
    "\n",
    "prompt.format(country=\"Germany\")"
   ]
  },
  {
   "cell_type": "markdown",
   "id": "d064dc13",
   "metadata": {},
   "source": [
    "### ChatOpenAI 초기화\n",
    "- **Temperature**: 출력의 창의성을 조정합니다.\n",
    "- **Streaming**: `streaming=True`로 설정하면 응답이 스트리밍 방식으로 생성됩니다.\n",
    "- **StreamingStdOutCallbackHandler**: 스트리밍된 데이터를 콘솔에 출력합니다.\n",
    "\n",
    "### PromptTemplate 생성\n",
    "- **Prompt Templates**: `intro`, `example`, `start`와 같은 템플릿은 프롬프트의 서로 다른 부분을 정의합니다:\n",
    "  - **`intro`**: 역할을 지정합니다 (예: \"해적\").\n",
    "  - **`example`**: 대화 스타일의 예시를 제공합니다.\n",
    "  - **`start`**: 대화의 시작 질문을 정의합니다.\n",
    "\n",
    "### PipelinePromptTemplate\n",
    "- 여러 템플릿을 결합하여 하나의 완성된 대화 프롬프트를 생성합니다.\n",
    "\n",
    "### 체인 실행\n",
    "- `chain.invoke()`를 통해 입력 데이터를 기반으로 최종 텍스트를 생성합니다.\n",
    "\n",
    "### 예시\n",
    "당신은 \"해적\"이라는 역할을 부여받았으며, 예제와 실제 질문을 포함한 대화가 출력됩니다.\n"
   ]
  },
  {
   "cell_type": "code",
   "execution_count": 12,
   "id": "ce224688",
   "metadata": {},
   "outputs": [
    {
     "name": "stdout",
     "output_type": "stream",
     "text": [
      "Arrr matey! Me favorite food be a good ol' plate of salted fish and hardtack! Aye, it be the perfect meal for a pirate like meself! Arrr!"
     ]
    },
    {
     "data": {
      "text/plain": [
       "AIMessageChunk(content=\"Arrr matey! Me favorite food be a good ol' plate of salted fish and hardtack! Aye, it be the perfect meal for a pirate like meself! Arrr!\")"
      ]
     },
     "execution_count": 12,
     "metadata": {},
     "output_type": "execute_result"
    }
   ],
   "source": [
    "from langchain.chat_models import ChatOpenAI\n",
    "from langchain.callbacks import StreamingStdOutCallbackHandler\n",
    "from langchain.prompts import PromptTemplate\n",
    "from langchain.prompts.pipeline import PipelinePromptTemplate\n",
    "\n",
    "# ChatOpenAI 모델 초기화\n",
    "chat = ChatOpenAI(\n",
    "    temperature=0.1,  # 모델 출력의 창의성 제어. 낮을수록 더 결정적인 답변을 생성\n",
    "    streaming=True,   # 스트리밍 방식으로 응답을 생성 (단어 단위로 실시간 출력)\n",
    "    callbacks=[\n",
    "        StreamingStdOutCallbackHandler(),  # 스트리밍된 데이터를 콘솔에 출력\n",
    "    ],\n",
    ")\n",
    "\n",
    "# **Prompt 정의**\n",
    "\n",
    "# 'intro' 프롬프트 템플릿: 역할을 부여하는 텍스트 생성\n",
    "intro = PromptTemplate.from_template(\n",
    "    \"\"\"\n",
    "    You are a role playing assistant.\n",
    "    And you are impersonating a {character}\n",
    "    \"\"\"\n",
    ")\n",
    "\n",
    "# 'example' 프롬프트 템플릿: 대화 스타일의 예시를 제공\n",
    "example = PromptTemplate.from_template(\n",
    "    \"\"\"\n",
    "    This is an example of how you talk: \n",
    "    Human: {example_question}\n",
    "    You: {example_answer}\n",
    "    \"\"\"\n",
    ")\n",
    "\n",
    "# 'start' 프롬프트 템플릿: 대화의 시작 부분을 정의\n",
    "start = PromptTemplate.from_template(\n",
    "    \"\"\"\n",
    "    Start now! \n",
    "    Human: {question}\n",
    "    You:\n",
    "    \"\"\"\n",
    ")\n",
    "\n",
    "# 최종 프롬프트 템플릿: 위의 템플릿들을 결합하여 최종 대화 형식 생성\n",
    "final = PromptTemplate.from_template(\n",
    "    \"\"\"\n",
    "    {intro}                                          \n",
    "    {example}                                    \n",
    "    {start}\n",
    "    \"\"\"\n",
    ")\n",
    "\n",
    "# 파이프라인에서 사용할 각 프롬프트를 정의 (이름과 템플릿 매칭)\n",
    "prompts = [\n",
    "    (\"intro\", intro),      # 역할 부여 템플릿\n",
    "    (\"example\", example),  # 대화 예제 템플릿\n",
    "    (\"start\", start),      # 대화 시작 템플릿\n",
    "]\n",
    "\n",
    "# **PipelinePromptTemplate**\n",
    "# 여러 개의 프롬프트 템플릿을 결합하여 최종 대화 프롬프트를 생성\n",
    "full_prompt = PipelinePromptTemplate(\n",
    "    final_prompt=final,  # 최종적으로 사용할 프롬프트\n",
    "    pipeline_prompts=prompts,  # 위에서 정의한 개별 템플릿\n",
    ")\n",
    "\n",
    "# **체인 생성**\n",
    "# 파이프라인 프롬프트를 ChatOpenAI 모델과 연결\n",
    "chain = full_prompt | chat\n",
    "\n",
    "# **체인 실행**\n",
    "# 사용자가 제공한 입력 데이터를 기반으로 체인 실행\n",
    "chain.invoke(\n",
    "    {\n",
    "        \"character\": \"Pirate\",  # 역할: 해적\n",
    "        \"example_question\": \"What is your location?\",  # 예제 질문\n",
    "        \"example_answer\": \"Arrrrg! That is a secret!! Arg arg!!\",  # 예제 답변\n",
    "        \"question\": \"What is your fav food?\",  # 실제 질문\n",
    "    }\n",
    ")\n"
   ]
  },
  {
   "cell_type": "code",
   "execution_count": null,
   "id": "6f73f6c9",
   "metadata": {},
   "outputs": [],
   "source": []
  }
 ],
 "metadata": {
  "kernelspec": {
   "display_name": "env",
   "language": "python",
   "name": "python3"
  },
  "language_info": {
   "codemirror_mode": {
    "name": "ipython",
    "version": 3
   },
   "file_extension": ".py",
   "mimetype": "text/x-python",
   "name": "python",
   "nbconvert_exporter": "python",
   "pygments_lexer": "ipython3",
   "version": "3.11.0"
  }
 },
 "nbformat": 4,
 "nbformat_minor": 5
}
