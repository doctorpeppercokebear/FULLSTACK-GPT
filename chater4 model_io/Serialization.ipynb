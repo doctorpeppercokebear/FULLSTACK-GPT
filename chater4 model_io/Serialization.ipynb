{
 "cells": [
  {
   "cell_type": "code",
   "execution_count": 6,
   "metadata": {},
   "outputs": [
    {
     "name": "stdout",
     "output_type": "stream",
     "text": [
      "Ingredients:\n",
      "- 1 cup of rice\n",
      "- 1 cup of water\n",
      "- 1 tablespoon of nuruk (fermentation starter)\n",
      "- 1 tablespoon of yeast\n",
      "\n",
      "Instructions:\n",
      "1. Rinse the rice thoroughly and soak it in water for at least 1 hour.\n",
      "2. Drain the rice and steam it until it is fully cooked.\n",
      "3. Let the rice cool down to room temperature.\n",
      "4. In a large bowl, mix the nuruk and yeast with water until dissolved.\n",
      "5. Add the cooked rice to the bowl and mix well.\n",
      "6. Cover the bowl with a clean cloth and let it ferment in a warm place for 3-4 days.\n",
      "7. After fermentation, strain the mixture through a cheesecloth to remove any solids.\n",
      "8. Transfer the liquid to a clean container and let it sit for another 1-2 days to allow the flavors to develop.\n",
      "9. Your homemade soju is now ready to be enjoyed! Serve chilled and enjoy responsibly. Ingredients:\n",
      "- 3 cups all-purpose flour\n",
      "- 1 packet active dry yeast\n",
      "- 1 cup warm water\n",
      "- 1 tbsp sugar\n",
      "- 1 tsp salt\n",
      "- 2 tbsp olive oil\n",
      "\n",
      "Instructions:\n",
      "1. In a small bowl, dissolve the yeast and sugar in warm water. Let it sit for about 5-10 minutes until it becomes frothy.\n",
      "2. In a large mixing bowl, combine the flour and salt. Make a well in the center and pour in the yeast mixture and olive oil.\n",
      "3. Mix everything together until a dough forms. Knead the dough on a floured surface for about 5-10 minutes until it becomes smooth and elastic.\n",
      "4. Place the dough in a greased bowl, cover with a clean towel, and let it rise in a warm place for about 1-2 hours or until it doubles in size.\n",
      "5. Preheat the oven to 375°F (190°C). Punch down the dough and shape it into a loaf. Place it in a greased loaf pan.\n",
      "6. Cover the loaf with a clean towel and let it rise for another 30-45 minutes.\n",
      "7. Bake the bread in the preheated oven for 25-30 minutes or until it is golden brown and sounds hollow when tapped on the bottom.\n",
      "8. Remove the bread from the oven and let it cool before slicing and serving. Enjoy your homemade bread! \n",
      "\n",
      "0.0010275\n"
     ]
    }
   ],
   "source": [
    "from langchain.chat_models import ChatOpenAI\n",
    "from langchain.callbacks import get_openai_callback\n",
    "\n",
    "chat = ChatOpenAI(\n",
    "    temperature=0.1,\n",
    ")\n",
    "\n",
    "with get_openai_callback() as usage:\n",
    "    a = chat.predict(\"What is the recipe for soju\")\n",
    "    b = chat.predict(\"What is the recipe ofr bread?\")\n",
    "    print(a,b, \"\\n\")\n",
    "    print(usage.total_cost)"
   ]
  },
  {
   "cell_type": "code",
   "execution_count": null,
   "metadata": {},
   "outputs": [],
   "source": [
    "from lanchain.chat_models import ChatOpenAI\n",
    "from langchain.llms.openai import OpenAI\n",
    "\n",
    "chat = ChatOpenAI(\n",
    "    temperature=0.1,\n",
    "    max_tokens=458,\n",
    "    model=\"gpt-3.5-turbo-16k\"\n",
    ")\n",
    "\n",
    "chat.save(\"model.json\") # json 형식으로 모델 정보가 저장됨"
   ]
  },
  {
   "cell_type": "markdown",
   "metadata": {},
   "source": [
    "### 저장한 모델 불러오기\n"
   ]
  },
  {
   "cell_type": "code",
   "execution_count": null,
   "metadata": {},
   "outputs": [],
   "source": [
    "from lanchain.chat_models import ChatOpenAI\n",
    "from langchain.llms.openai import OpenAI\n",
    "from langchain.llms.loading import  load_llm\n",
    "\n",
    "chat = load.llm(\"model.json\")\n",
    "\n",
    "chat"
   ]
  }
 ],
 "metadata": {
  "kernelspec": {
   "display_name": "env",
   "language": "python",
   "name": "python3"
  },
  "language_info": {
   "codemirror_mode": {
    "name": "ipython",
    "version": 3
   },
   "file_extension": ".py",
   "mimetype": "text/x-python",
   "name": "python",
   "nbconvert_exporter": "python",
   "pygments_lexer": "ipython3",
   "version": "3.11.0"
  }
 },
 "nbformat": 4,
 "nbformat_minor": 2
}
