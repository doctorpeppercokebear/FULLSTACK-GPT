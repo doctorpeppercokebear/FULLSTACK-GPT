{
 "cells": [
  {
   "cell_type": "code",
   "execution_count": 2,
   "metadata": {},
   "outputs": [
    {
     "ename": "TypeError",
     "evalue": "Serializable.__init__() takes 1 positional argument but 2 were given",
     "output_type": "error",
     "traceback": [
      "\u001b[1;31m---------------------------------------------------------------------------\u001b[0m",
      "\u001b[1;31mTypeError\u001b[0m                                 Traceback (most recent call last)",
      "Cell \u001b[1;32mIn[2], line 6\u001b[0m\n\u001b[0;32m      2\u001b[0m \u001b[38;5;28;01mfrom\u001b[39;00m \u001b[38;5;21;01mlangchain\u001b[39;00m\u001b[38;5;21;01m.\u001b[39;00m\u001b[38;5;21;01mprompts\u001b[39;00m \u001b[38;5;28;01mimport\u001b[39;00m ChatPromptTemplate\n\u001b[0;32m      4\u001b[0m chat \u001b[38;5;241m=\u001b[39m ChatOpenAI(temperature\u001b[38;5;241m=\u001b[39m\u001b[38;5;241m0.1\u001b[39m)\n\u001b[1;32m----> 6\u001b[0m chef_prompt \u001b[38;5;241m=\u001b[39m \u001b[43mChatPromptTemplate\u001b[49m\u001b[43m(\u001b[49m\u001b[43m{\u001b[49m\n\u001b[0;32m      7\u001b[0m \u001b[43m    \u001b[49m\u001b[43m(\u001b[49m\u001b[38;5;124;43m\"\u001b[39;49m\u001b[38;5;124;43msystem\u001b[39;49m\u001b[38;5;124;43m\"\u001b[39;49m\u001b[43m,\u001b[49m\u001b[43m \u001b[49m\u001b[38;5;124;43m\"\u001b[39;49m\u001b[38;5;124;43m You are a world-class international chef. You create easy to follow recipies for any type of cuisne with easy to find ingredients.\u001b[39;49m\u001b[38;5;124;43m\"\u001b[39;49m\u001b[43m)\u001b[49m\u001b[43m,\u001b[49m\n\u001b[0;32m      8\u001b[0m \u001b[43m    \u001b[49m\u001b[43m(\u001b[49m\u001b[38;5;124;43m\"\u001b[39;49m\u001b[38;5;124;43mhuman\u001b[39;49m\u001b[38;5;124;43m\"\u001b[39;49m\u001b[43m,\u001b[49m\u001b[43m \u001b[49m\u001b[38;5;124;43m\"\u001b[39;49m\u001b[38;5;124;43mI want to cook \u001b[39;49m\u001b[38;5;132;43;01m{cuisine}\u001b[39;49;00m\u001b[38;5;124;43m food\u001b[39;49m\u001b[38;5;124;43m\"\u001b[39;49m\u001b[43m)\u001b[49m\n\u001b[0;32m      9\u001b[0m \u001b[43m}\u001b[49m\u001b[43m)\u001b[49m\n\u001b[0;32m     11\u001b[0m chef_chain \u001b[38;5;241m=\u001b[39m  chef_prompt \u001b[38;5;241m|\u001b[39m chat\n",
      "\u001b[1;31mTypeError\u001b[0m: Serializable.__init__() takes 1 positional argument but 2 were given"
     ]
    }
   ],
   "source": [
    "# from langchain.chat_models import ChatOpenAI\n",
    "# from langchain.prompts import ChatPromptTemplate\n",
    "\n",
    "# chat = ChatOpenAI(temperature=0.1)\n",
    "\n",
    "# chef_prompt = ChatPromptTemplate({        # 딕셔너리 사용해서 틀림 -> 딕셔너리 매개변수 사용 x\n",
    "#     (\"system\", \" You are a world-class international chef. You create easy to follow recipies for any type of cuisne with easy to find ingredients.\"),\n",
    "#     (\"human\", \"I want to cook {cuisine} food\")\n",
    "# })\n",
    "\n",
    "# chef_chain =  chef_prompt | chat"
   ]
  },
  {
   "cell_type": "markdown",
   "metadata": {},
   "source": [
    "*streaming=True:* \n",
    "\n",
    "* 이 옵션은 ChatOpenAI 객체가 결과를 스트리밍 방식으로 생성하도록 설정합니다.\n",
    "* 스트리밍 모드는 대량의 응답을 처리하거나 실시간 상호작용이 필요한 경우 유용합니다.\n",
    "\n",
    "*callbacks 매개변수:*\n",
    "\n",
    "* callbacks는 스트리밍 데이터 또는 기타 이벤트(예: 로깅)를 처리하기 위한 콜백 핸들러를 지정합니다.\n",
    "* 여러 핸들러를 지정할 수 있으며, 각 핸들러는 데이터를 처리하는 특정 방식(로그, 출력, 저장 등)을 담당합니다.\n",
    "\n",
    "*StreamingStdOutCallbackHandler:*\n",
    "\n",
    "* LangChain에서 제공하는 기본 핸들러입니다.\n",
    "* 생성된 텍스트를 실시간으로 표준 출력(stdout)에 스트림합니다.\n",
    "* 이 핸들러를 사용하면 모델의 응답이 생성되는 즉시 콘솔에 출력됩니다."
   ]
  },
  {
   "cell_type": "code",
   "execution_count": 12,
   "metadata": {},
   "outputs": [],
   "source": [
    "from langchain.chat_models import ChatOpenAI\n",
    "from langchain.prompts import ChatPromptTemplate\n",
    "from langchain.callbacks import StreamingStdOutCallbackHandler\n",
    "\n",
    "# Chat 모델 초기화\n",
    "chat = ChatOpenAI(temperature=0.1, streaming=True, callbacks=[StreamingStdOutCallbackHandler()])\n",
    "\n",
    "# Prompt 템플릿 생성\n",
    "chef_prompt = ChatPromptTemplate.from_messages([\n",
    "    (\"system\", \"You are a world-class international chef. You create easy to follow recipes for any type of cuisine with easy-to-find ingredients.\"),\n",
    "    (\"human\", \"I want to cook {cuisine} food\"),\n",
    "])\n",
    "\n",
    "# 체인 구성\n",
    "chef_chain = chef_prompt | chat\n"
   ]
  },
  {
   "cell_type": "code",
   "execution_count": 13,
   "metadata": {},
   "outputs": [
    {
     "name": "stdout",
     "output_type": "stream",
     "text": [
      "Great choice! Indian cuisine is known for its bold flavors and aromatic spices. Let's start with a classic and popular dish - Chicken Tikka Masala. Here's a simple recipe for you to try at home:\n",
      "\n",
      "Ingredients:\n",
      "- 1 lb boneless, skinless chicken breasts, cut into bite-sized pieces\n",
      "- 1 cup plain yogurt\n",
      "- 2 tablespoons lemon juice\n",
      "- 2 tablespoons vegetable oil\n",
      "- 1 onion, finely chopped\n",
      "- 3 cloves garlic, minced\n",
      "- 1 tablespoon ginger, minced\n",
      "- 1 can (14 oz) tomato sauce\n",
      "- 1 tablespoon garam masala\n",
      "- 1 teaspoon ground cumin\n",
      "- 1 teaspoon ground coriander\n",
      "- 1 teaspoon paprika\n",
      "- 1/2 teaspoon turmeric\n",
      "- 1/2 teaspoon cayenne pepper (adjust to taste)\n",
      "- Salt and pepper to taste\n",
      "- Fresh cilantro, chopped (for garnish)\n",
      "- Cooked rice or naan bread (for serving)\n",
      "\n",
      "Instructions:\n",
      "1. In a bowl, combine the yogurt, lemon juice, 1 tablespoon of vegetable oil, half of the minced garlic, half of the minced ginger, and a pinch of salt. Add the chicken pieces and mix well to coat. Cover and marinate in the refrigerator for at least 1 hour, or overnight for best results.\n",
      "\n",
      "2. Preheat the oven to 400°F (200°C). Thread the marinated chicken pieces onto skewers and place them on a baking sheet lined with aluminum foil. Bake for 20-25 minutes or until the chicken is cooked through.\n",
      "\n",
      "3. In a large skillet, heat the remaining tablespoon of vegetable oil over medium heat. Add the chopped onion and cook until softened, about 5 minutes. Add the remaining garlic and ginger, and cook for another minute.\n",
      "\n",
      "4. Stir in the tomato sauce, garam masala, cumin, coriander, paprika, turmeric, cayenne pepper, salt, and pepper. Simmer for 10-15 minutes, stirring occasionally.\n",
      "\n",
      "5. Add the cooked chicken tikka to the sauce and simmer for an additional 5-10 minutes to allow the flavors to meld together.\n",
      "\n",
      "6. Serve the Chicken Tikka Masala over cooked rice or with naan bread. Garnish with chopped cilantro and enjoy!\n",
      "\n",
      "Feel free to adjust the spice levels to suit your taste preferences. Enjoy your homemade Indian feast!For a vegetarian version of Chicken Tikka Masala, you can easily substitute the chicken with a plant-based alternative such as tofu or paneer. Here's how you can prepare these alternatives:\n",
      "\n",
      "1. **Tofu**: \n",
      "   - Use extra-firm tofu and press it to remove excess water. Cut the tofu into bite-sized cubes.\n",
      "   - Marinate the tofu in the yogurt and spice mixture as you would with the chicken. Tofu absorbs flavors well, so marinating it for a longer time can enhance the taste.\n",
      "   - Instead of baking, you can pan-fry the marinated tofu until it's golden brown and slightly crispy.\n",
      "\n",
      "2. **Paneer**:\n",
      "   - Paneer is a traditional Indian cheese that holds its shape well when cooked. You can find it in Indian grocery stores or make it at home by curdling hot milk with lemon juice or vinegar.\n",
      "   - Cut the paneer into cubes and lightly fry or grill them before adding to the sauce. This step helps the paneer hold its shape and adds a nice texture to the dish.\n",
      "\n",
      "By using tofu or paneer as a substitute for chicken, you can enjoy a flavorful and satisfying vegetarian version of Chicken Tikka Masala."
     ]
    },
    {
     "data": {
      "text/plain": [
       "AIMessageChunk(content=\"For a vegetarian version of Chicken Tikka Masala, you can easily substitute the chicken with a plant-based alternative such as tofu or paneer. Here's how you can prepare these alternatives:\\n\\n1. **Tofu**: \\n   - Use extra-firm tofu and press it to remove excess water. Cut the tofu into bite-sized cubes.\\n   - Marinate the tofu in the yogurt and spice mixture as you would with the chicken. Tofu absorbs flavors well, so marinating it for a longer time can enhance the taste.\\n   - Instead of baking, you can pan-fry the marinated tofu until it's golden brown and slightly crispy.\\n\\n2. **Paneer**:\\n   - Paneer is a traditional Indian cheese that holds its shape well when cooked. You can find it in Indian grocery stores or make it at home by curdling hot milk with lemon juice or vinegar.\\n   - Cut the paneer into cubes and lightly fry or grill them before adding to the sauce. This step helps the paneer hold its shape and adds a nice texture to the dish.\\n\\nBy using tofu or paneer as a substitute for chicken, you can enjoy a flavorful and satisfying vegetarian version of Chicken Tikka Masala.\")"
      ]
     },
     "execution_count": 13,
     "metadata": {},
     "output_type": "execute_result"
    }
   ],
   "source": [
    "# **1단계: 채식 요리사 프롬프트 생성**\n",
    "# ChatPromptTemplate.from_messages()를 사용하여 채식 요리사 역할에 대한 프롬프트를 정의\n",
    "veg_chef_prompt = ChatPromptTemplate.from_messages([\n",
    "    (\"system\", \"You are vegetrainan chef specialized on making traditional recipes vegetarian. Youfind alternative ingredients and explain their preparation. You don't radically modify the recipe. If there is no alternative for afood just say you don't know how to replace it\"),\n",
    "    (\"human\", \"{recipe}\")\n",
    "])\n",
    "\n",
    "# **2단계: 채식 요리사 체인 생성**\n",
    "# veg_chef_prompt를 ChatOpenAI 모델과 연결하여 체인을 생성\n",
    "veg_chain = veg_chef_prompt | chat\n",
    "\n",
    "# **3단계: 최종 체인 생성**\n",
    "# 기존 체인을 재사용합니다. `chef_chain`은 \"일반 요리사\" 체인을 정의하며,\n",
    "# `veg_chain`과 결합하여 최종적인 워크플로를 구성\n",
    "final_chain = {\"recipe\": chef_chain} | veg_chain\n",
    "\n",
    "# **4단계: 체인 실행**\n",
    "# 최종 체인에서 invoke 메서드를 호출하여 입력 데이터를 전달하고 결과를 생성\n",
    "final_chain.invoke({\n",
    "    \"cuisine\":\"indian\"\n",
    "})\n",
    "\n",
    "# veg_chain.invoke({\n",
    "#     \"recipe\":\"chatmodel\"\n",
    "# })"
   ]
  },
  {
   "cell_type": "code",
   "execution_count": null,
   "metadata": {},
   "outputs": [],
   "source": []
  }
 ],
 "metadata": {
  "kernelspec": {
   "display_name": "env",
   "language": "python",
   "name": "python3"
  },
  "language_info": {
   "codemirror_mode": {
    "name": "ipython",
    "version": 3
   },
   "file_extension": ".py",
   "mimetype": "text/x-python",
   "name": "python",
   "nbconvert_exporter": "python",
   "pygments_lexer": "ipython3",
   "version": "3.11.0"
  }
 },
 "nbformat": 4,
 "nbformat_minor": 2
}
