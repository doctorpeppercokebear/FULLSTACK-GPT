{
 "cells": [
  {
   "cell_type": "markdown",
   "metadata": {},
   "source": [
    "mbed: Text에대한 vector representaion을 얻는것, text를 vector로 변환하는것.  \n",
    "vector: 여기서 말하는 백터는 좁은범위의 벡터로, 숫자를 성분으로 갖는 다차원 순서쌍을 의미함."
   ]
  },
  {
   "cell_type": "code",
   "execution_count": 1,
   "metadata": {},
   "outputs": [],
   "source": [
    "from langchain.chat_models import ChatOpenAI\n",
    "from langchain.text_splitter import CharacterTextSplitter\n",
    "from langchain.document_loaders import TextLoader\n",
    "\n",
    "splitter = CharacterTextSplitter.from_tiktoken_encoder(\n",
    "    separator=\"\\n\",\n",
    "    chunk_size=600,\n",
    "    chunk_overlap=100,\n",
    ")\n",
    "\n",
    "loader = TextLoader(\"./document.txt\")\n"
   ]
  },
  {
   "cell_type": "code",
   "execution_count": 5,
   "metadata": {},
   "outputs": [
    {
     "data": {
      "text/plain": [
       "1536"
      ]
     },
     "execution_count": 5,
     "metadata": {},
     "output_type": "execute_result"
    }
   ],
   "source": [
    "from langchain.embeddings import OpenAIEmbeddings\n",
    "\n",
    "embedder = OpenAIEmbeddings()\n",
    "\n",
    "vector = embedder.embed_query(\"hello\")\n",
    "\n",
    "len(vector)"
   ]
  },
  {
   "cell_type": "code",
   "execution_count": 8,
   "metadata": {},
   "outputs": [
    {
     "name": "stdout",
     "output_type": "stream",
     "text": [
      "5 1536\n"
     ]
    }
   ],
   "source": [
    "from langchain.embeddings import OpenAIEmbeddings\n",
    "\n",
    "embedder = OpenAIEmbeddings()\n",
    "\n",
    "vector = embedder.embed_documents([\"hi\", \"hello\", \"how\", \"are\", \"you\"])\n",
    "\n",
    "print(len(vector), len(vector[0]))"
   ]
  },
  {
   "cell_type": "markdown",
   "metadata": {},
   "source": [
    "## Vector Store\n",
    "<span style=\"color: skyblue;\">임베딩을 통해 생성된 고차원의 백테 데이터를 효율적으로 저장하고 조회할 수 있도록 설계된 데이터 베이스이다</span>\n",
    "\n",
    "* langchain은 embedding한 것들을 캐싱하는 기능을 제공한다.\n",
    "    * 비용 절감 가능"
   ]
  },
  {
   "cell_type": "code",
   "execution_count": 14,
   "metadata": {},
   "outputs": [],
   "source": [
    "# 재실행 할 경우 계속 요금이 빠져나간다.\n",
    "from langchain.chat_models import ChatOpenAI\n",
    "from langchain.text_splitter import CharacterTextSplitter\n",
    "from langchain.document_loaders import TextLoader\n",
    "from langchain.vectorstores import Chroma\n",
    "from langchain.embeddings import OpenAIEmbeddings, CacheBackedEmbeddings\n",
    "from langchain.storage import LocalFileStore\n",
    "\n",
    "cache_dir = LocalFileStore(\"./.cache2/\")\n",
    "\n",
    "cached_embeddings = CacheBackedEmbeddings.from_bytes_store(\n",
    "    embeddings, cache_dir\n",
    ")\n",
    "\n",
    "splitter = CharacterTextSplitter.from_tiktoken_encoder(\n",
    "    separator=\"\\n\",\n",
    "    chunk_size=600,\n",
    "    chunk_overlap=100,\n",
    ")\n",
    "\n",
    "loader = TextLoader(\"./document.txt\")\n",
    "\n",
    "docs = loader.load_and_split(text_splitter=splitter)\n",
    "\n",
    "embeddings = OpenAIEmbeddings()\n",
    "\n",
    "vectorstore = Chroma.from_documents(docs, embeddings )"
   ]
  },
  {
   "cell_type": "code",
   "execution_count": 12,
   "metadata": {},
   "outputs": [
    {
     "name": "stdout",
     "output_type": "stream",
     "text": [
      "4 [Document(page_content=\"strategic manoeuvre--perfect co-ordination--utter rout--half a million\\nprisoners--complete demoralization--control of the whole of Africa--bring\\nthe war within measurable distance of its end--victory--greatest victory\\nin human history--victory, victory, victory!'\\nUnder the table Winston's feet made convulsive movements. He had not\\nstirred from his seat, but in his mind he was running, swiftly running,\\nhe was with the crowds outside, cheering himself deaf. He looked up again\\nat the portrait of Big Brother. The colossus that bestrode the world!\\nThe rock against which the hordes of Asia dashed themselves in vain! He\\nthought how ten minutes ago--yes, only ten minutes--there had still been\\nequivocation in his heart as he wondered whether the news from the front\\nwould be of victory or defeat. Ah, it was more than a Eurasian army that\\nhad perished! Much had changed in him since that first day in the Ministry\\nof Love, but the final, indispensable, healing change had never happened,\\nuntil this moment.\\nThe voice from the telescreen was still pouring forth its tale of prisoners\\nand booty and slaughter, but the shouting outside had died down a little.\\nThe waiters were turning back to their work. One of them approached with\\nthe gin bottle. Winston, sitting in a blissful dream, paid no attention\\nas his glass was filled up. He was not running or cheering any longer. He\\nwas back in the Ministry of Love, with everything forgiven, his soul white\\nas snow. He was in the public dock, confessing everything, implicating\\neverybody. He was walking down the white-tiled corridor, with the feeling\\nof walking in sunlight, and an armed guard at his back. The long-hoped-for\\nbullet was entering his brain.\\nHe gazed up at the enormous face. Forty years it had taken him to learn\\nwhat kind of smile was hidden beneath the dark moustache. O cruel, needless\\nmisunderstanding! O stubborn, self-willed exile from the loving breast!\\nTwo gin-scented tears trickled down the sides of his nose. But it was all\\nright, everything was all right, the struggle was finished. He had won\\nthe victory over himself. He loved Big Brother.\\nTHE END\", metadata={'source': './document.txt'}), Document(page_content='was still standing at his side. There was still the cold touch of wire\\nagainst his cheek. But through the darkness that enveloped him he heard\\nanother metallic click, and knew that the cage door had clicked shut and\\nnot open.\\nChapter 6\\nThe Chestnut Tree was almost empty. A ray of sunlight slanting through a\\nwindow fell on dusty table-tops. It was the lonely hour of fifteen. A\\ntinny music trickled from the telescreens.\\nWinston sat in his usual corner, gazing into an empty glass. Now and again\\nhe glanced up at a vast face which eyed him from the opposite wall.\\nBIG BROTHER IS WATCHING YOU, the caption said. Unbidden, a waiter came and\\nfilled his glass up with Victory Gin, shaking into it a few drops from\\nanother bottle with a quill through the cork. It was saccharine flavoured\\nwith cloves, the speciality of the cafe.\\nWinston was listening to the telescreen. At present only music was coming\\nout of it, but there was a possibility that at any moment there might be\\na special bulletin from the Ministry of Peace. The news from the African\\nfront was disquieting in the extreme. On and off he had been worrying\\nabout it all day. A Eurasian army (Oceania was at war with Eurasia:\\nOceania had always been at war with Eurasia) was moving southward at\\nterrifying speed. The mid-day bulletin had not mentioned any definite\\narea, but it was probable that already the mouth of the Congo was a\\nbattlefield. Brazzaville and Leopoldville were in danger. One did not have\\nto look at the map to see what it meant. It was not merely a question of\\nlosing Central Africa: for the first time in the whole war, the territory\\nof Oceania itself was menaced.\\nA violent emotion, not fear exactly but a sort of undifferentiated\\nexcitement, flared up in him, then faded again. He stopped thinking about\\nthe war. In these days he could never fix his mind on any one subject for\\nmore than a few moments at a time. He picked up his glass and drained it\\nat a gulp. As always, the gin made him shudder and even retch slightly.\\nThe stuff was horrible. The cloves and saccharine, themselves disgusting\\nenough in their sickly way, could not disguise the flat oily smell; and\\nwhat was worst of all was that the smell of gin, which dwelt with him\\nnight and day, was inextricably mixed up in his mind with the smell of\\nthose----\\nHe never named them, even in his thoughts, and so far as it was possible\\nhe never visualized them. They were something that he was half-aware of,', metadata={'source': './document.txt'}), Document(page_content=\"moves.' Winston looked up at the portrait of Big Brother. White always\\nmates, he thought with a sort of cloudy mysticism. Always, without\\nexception, it is so arranged. In no chess problem since the beginning of\\nthe world has black ever won. Did it not symbolize the eternal, unvarying\\ntriumph of Good over Evil? The huge face gazed back at him, full of calm\\npower. White always mates.\\nThe voice from the telescreen paused and added in a different and much\\ngraver tone: 'You are warned to stand by for an important announcement at\\nfifteen-thirty. Fifteen-thirty! This is news of the highest importance.\\nTake care not to miss it. Fifteen-thirty!' The tinkling music struck up\\nagain.\\nWinston's heart stirred. That was the bulletin from the front; instinct\\ntold him that it was bad news that was coming. All day, with little spurts\\nof excitement, the thought of a smashing defeat in Africa had been in and\\nout of his mind. He seemed actually to see the Eurasian army swarming\\nacross the never-broken frontier and pouring down into the tip of Africa\\nlike a column of ants. Why had it not been possible to outflank them in\\nsome way? The outline of the West African coast stood out vividly in his\\nmind. He picked up the white knight and moved it across the board. THERE\\nwas the proper spot. Even while he saw the black horde racing southward he\\nsaw another force, mysteriously assembled, suddenly planted in their rear,\\ncutting their communications by land and sea. He felt that by willing it he\\nwas bringing that other force into existence. But it was necessary to act\\nquickly. If they could get control of the whole of Africa, if they had\\nairfields and submarine bases at the Cape, it would cut Oceania in two. It\\nmight mean anything: defeat, breakdown, the redivision of the world, the\\ndestruction of the Party! He drew a deep breath. An extraordinary medley\\nof feeling--but it was not a medley, exactly; rather it was successive\\nlayers of feeling, in which one could not say which layer was\\nundermost--struggled inside him.\\nThe spasm passed. He put the white knight back in its place, but for the\\nmoment he could not settle down to serious study of the chess problem.\\nHis thoughts wandered again. Almost unconsciously he traced with his\\nfinger in the dust on the table:\\n2+2=5\\n'They can't get inside you,' she had said. But they could get inside you.\\n'What happens to you here is FOR EVER,' O'Brien had said. That was a true\", metadata={'source': './document.txt'}), Document(page_content=\"enough in their sickly way, could not disguise the flat oily smell; and\\nwhat was worst of all was that the smell of gin, which dwelt with him\\nnight and day, was inextricably mixed up in his mind with the smell of\\nthose----\\nHe never named them, even in his thoughts, and so far as it was possible\\nhe never visualized them. They were something that he was half-aware of,\\nhovering close to his face, a smell that clung to his nostrils. As the gin\\nrose in him he belched through purple lips. He had grown fatter since they\\nreleased him, and had regained his old colour--indeed, more than regained\\nit. His features had thickened, the skin on nose and cheekbones was\\ncoarsely red, even the bald scalp was too deep a pink. A waiter, again\\nunbidden, brought the chessboard and the current issue of 'The Times',\\nwith the page turned down at the chess problem. Then, seeing that Winston's\\nglass was empty, he brought the gin bottle and filled it. There was no\\nneed to give orders. They knew his habits. The chessboard was always\\nwaiting for him, his corner table was always reserved; even when the place\\nwas full he had it to himself, since nobody cared to be seen sitting too\\nclose to him. He never even bothered to count his drinks. At irregular\\nintervals they presented him with a dirty slip of paper which they said\\nwas the bill, but he had the impression that they always undercharged him.\\nIt would have made no difference if it had been the other way about. He\\nhad always plenty of money nowadays. He even had a job, a sinecure, more\\nhighly-paid than his old job had been.\\nThe music from the telescreen stopped and a voice took over. Winston raised\\nhis head to listen. No bulletins from the front, however. It was merely a\\nbrief announcement from the Ministry of Plenty. In the preceding quarter,\\nit appeared, the Tenth Three-Year Plan's quota for bootlaces had been\\noverfulfilled by 98 per cent.\\nHe examined the chess problem and set out the pieces. It was a tricky\\nending, involving a couple of knights. 'White to play and mate in two\\nmoves.' Winston looked up at the portrait of Big Brother. White always\\nmates, he thought with a sort of cloudy mysticism. Always, without\\nexception, it is so arranged. In no chess problem since the beginning of\\nthe world has black ever won. Did it not symbolize the eternal, unvarying\\ntriumph of Good over Evil? The huge face gazed back at him, full of calm\\npower. White always mates.\", metadata={'source': './document.txt'})]\n"
     ]
    }
   ],
   "source": [
    "results = vectorstore.similarity_search(\"where does winston live\")\n",
    "\n",
    "print(len(results), results)"
   ]
  },
  {
   "cell_type": "code",
   "execution_count": null,
   "metadata": {},
   "outputs": [],
   "source": []
  }
 ],
 "metadata": {
  "kernelspec": {
   "display_name": "env",
   "language": "python",
   "name": "python3"
  },
  "language_info": {
   "codemirror_mode": {
    "name": "ipython",
    "version": 3
   },
   "file_extension": ".py",
   "mimetype": "text/x-python",
   "name": "python",
   "nbconvert_exporter": "python",
   "pygments_lexer": "ipython3",
   "version": "3.11.0"
  }
 },
 "nbformat": 4,
 "nbformat_minor": 2
}
