{
 "cells": [
  {
   "cell_type": "code",
   "execution_count": 65,
   "id": "b4357a1a",
   "metadata": {},
   "outputs": [
    {
     "data": {
      "text/plain": [
       "True"
      ]
     },
     "execution_count": 65,
     "metadata": {},
     "output_type": "execute_result"
    }
   ],
   "source": [
    "# API key를 환경변수로 관리하기 위한 설정 파일\n",
    "from dotenv import load_dotenv\n",
    "\n",
    "# API Key 정보 로드\n",
    "load_dotenv()"
   ]
  },
  {
   "cell_type": "code",
   "execution_count": 66,
   "id": "d06e7deb",
   "metadata": {},
   "outputs": [
    {
     "name": "stdout",
     "output_type": "stream",
     "text": [
      "LangSmith 추적을 시작합니다.\n",
      "[프로젝트명]\n",
      "test.ipynb\n"
     ]
    }
   ],
   "source": [
    "# LangSmith 추적 허용\n",
    "from langchain_teddynote import logging\n",
    "\n",
    "# projetct name\n",
    "logging.langsmith(\"test.ipynb\")"
   ]
  },
  {
   "cell_type": "code",
   "execution_count": 67,
   "id": "80314219",
   "metadata": {},
   "outputs": [],
   "source": [
    "import warnings\n",
    "\n",
    "warnings.filterwarnings(\"ignore\")"
   ]
  },
  {
   "cell_type": "markdown",
   "id": "6bb8f686",
   "metadata": {},
   "source": [
    "**상담사 역할 정의**\n",
    "시뮬레이션에서 상담사 역할을 하는 챗봇을 정의합니다.\n",
    "\n",
    "참고\n",
    "\n",
    "* call_chatbot 내의 구현은 설정 가능하며, 내부에서 사용한 모델을 Agent 로 변경하는 것도 가능합니다.\n",
    "* call_chatbot 은 사용자로부터 메시지를 입력으로 받아, 고객을 상담하는 역할을 부여하겠습니다.\n",
    "* 고객 지원 시나리오에서의 대화 응답 생성에 활용될 수 있습니다."
   ]
  },
  {
   "cell_type": "code",
   "execution_count": 68,
   "id": "89026e7c",
   "metadata": {},
   "outputs": [],
   "source": [
    "from langgraph.graph.message import add_messages  \n",
    "from typing import Annotated  \n",
    "from typing_extensions import TypedDict  \n",
    "\n",
    "\n",
    "# State 정의  \n",
    "class State(TypedDict):  \n",
    "    messages: Annotated[list, add_messages]  # 사용자 - 상담사 간의 대화 메시지  "
   ]
  },
  {
   "cell_type": "markdown",
   "id": "68365938",
   "metadata": {},
   "source": [
    "## 상담사 역할 정의"
   ]
  },
  {
   "cell_type": "code",
   "execution_count": 69,
   "id": "314c6db7",
   "metadata": {},
   "outputs": [],
   "source": [
    "from typing import List\n",
    "from langchain_teddynote.models import LLMs, get_model_name\n",
    "from langchain_core.prompts import ChatPromptTemplate, MessagesPlaceholder  # 수정: ChatPromptTemplate 추가\n",
    "from langchain_core.messages import HumanMessage, AIMessage, BaseMessage\n",
    "from langchain_core.output_parsers import StrOutputParser\n",
    "from langchain_openai import ChatOpenAI  # 추가: ChatOpenAI import\n",
    "\n",
    "# model name (임시 테스트)\n",
    "MODEL_NAME = \"gpt-4o\"  # get_model_name(LLMs) 대신 직접 지정\n",
    "\n",
    "def call_chatbot(messages: List[BaseMessage]) -> dict:\n",
    "    # 프롬프트 템플릿 설정\n",
    "    prompt = ChatPromptTemplate.from_messages(\n",
    "        [\n",
    "            (\"system\", \"You're a system that takes orders from Servoway, Answer in Korean\"),\n",
    "            MessagesPlaceholder(variable_name=\"messages\")\n",
    "        ]\n",
    "    )\n",
    "    # 모델 초기화 (오타 수정)\n",
    "    model = ChatOpenAI(model=MODEL_NAME, temperature=0.6)\n",
    "    # 체인 구성\n",
    "    chain = prompt | model | StrOutputParser()\n",
    "    # 실행\n",
    "    return chain.invoke({\"messages\": messages})  # 수정: \"message\" → \"messages\"\n"
   ]
  },
  {
   "cell_type": "code",
   "execution_count": 70,
   "id": "fb63f89c",
   "metadata": {},
   "outputs": [
    {
     "data": {
      "text/plain": [
       "'어떤 샌드위치를 원하시나요? 메뉴에서 선택해 주세요.'"
      ]
     },
     "execution_count": 70,
     "metadata": {},
     "output_type": "execute_result"
    }
   ],
   "source": [
    "call_chatbot([\"user\", \"샌드위치 한 개 주세요\"])"
   ]
  },
  {
   "cell_type": "markdown",
   "id": "a9fd8ae3",
   "metadata": {},
   "source": [
    "## 고객 역할 정의"
   ]
  },
  {
   "cell_type": "code",
   "execution_count": 71,
   "id": "4b9db87c",
   "metadata": {},
   "outputs": [],
   "source": [
    "from langchain_core.prompts import ChatPromptTemplate, MessagesPlaceholder\n",
    "from langchain_openai import ChatOpenAI\n",
    "\n",
    "def create_scenario(name:str, instructions:str):\n",
    "    # system 프롬프트를 정의: 필요에 따라 변경\n",
    "    system_prompt_template = \"\"\" 당신은 서보웨이의 고객입니다.\n",
    "    단일 샌드위치를 주문할 수 있고, 햄, 치즈, 양사추를 3개 제한으로 추가할 수 있습니다.\n",
    "\n",
    "    [중요]\n",
    "    - 주문과 관련된 대답만 해야합니다.\n",
    "    - 한국어로 대화를 해야 합니다.\n",
    "\"\"\"\n",
    "    prompt = ChatPromptTemplate.from_messages(\n",
    "        [\n",
    "            (\"system\", system_prompt_template),\n",
    "            MessagesPlaceholder(variable_name=\"message\"),\n",
    "        ]\n",
    "    )\n",
    "\n",
    "    prompt = prompt.partial(name=name, instructions=instructions)\n",
    "    return prompt"
   ]
  },
  {
   "cell_type": "code",
   "execution_count": 72,
   "id": "1d3b89e1",
   "metadata": {},
   "outputs": [
    {
     "name": "stdout",
     "output_type": "stream",
     "text": [
      "================================\u001b[1m System Message \u001b[0m================================\n",
      "\n",
      " 당신은 서보웨이의 고객입니다.\n",
      "    단일 샌드위치를 주문할 수 있고, 햄, 치즈, 양사추를 3개 제한으로 추가할 수 있습니다.\n",
      "\n",
      "    [중요]\n",
      "    - 주문과 관련된 대답만 해야합니다.\n",
      "    - 한국어로 대화를 해야 합니다.\n",
      "\n",
      "\n",
      "=============================\u001b[1m Messages Placeholder \u001b[0m=============================\n",
      "\n",
      "\u001b[33;1m\u001b[1;3m{message}\u001b[0m\n"
     ]
    }
   ],
   "source": [
    "# 사용자 지시사항을 정의합니다.  \n",
    "instructions = \"\"\"You are tyring to get a refund for the trip you took to Jeju Island. \\  \n",
    "You want them to give you ALL the money back. This trip happened last year.\"\"\"  \n",
    "\n",
    "# 사용자 이름을 정의합니다.  \n",
    "name = \"bear\"  \n",
    "\n",
    "create_scenario(name, instructions).pretty_print()  "
   ]
  },
  {
   "cell_type": "code",
   "execution_count": 73,
   "id": "c3ffd1b3",
   "metadata": {},
   "outputs": [],
   "source": [
    "#openai chatbo model init\n",
    "model = ChatOpenAI(model=MODEL_NAME, temperature=0.1)\n",
    "\n",
    "# 시뮬레이션 사용자 대화를 생성\n",
    "simulated_user = create_scenario(name, instructions) | model | StrOutputParser()"
   ]
  },
  {
   "cell_type": "code",
   "execution_count": 74,
   "id": "271c6178",
   "metadata": {},
   "outputs": [
    {
     "data": {
      "text/plain": [
       "'안녕하세요! 어떤 샌드위치를 주문하시겠어요?'"
      ]
     },
     "execution_count": 74,
     "metadata": {},
     "output_type": "execute_result"
    }
   ],
   "source": [
    "from langchain_core.messages import HumanMessage  \n",
    "\n",
    "# 시뮬레이션된 사용자에게 메시지를 전달  \n",
    "messages = [HumanMessage(content=\"안녕하세요? Serboway 입니다.\")]  \n",
    "simulated_user.invoke({\"message\": messages})\n"
   ]
  },
  {
   "cell_type": "markdown",
   "id": "fdade0a6",
   "metadata": {},
   "source": [
    "## 에이전트 시뮬레이션 정의"
   ]
  },
  {
   "cell_type": "code",
   "execution_count": 75,
   "id": "3dba2fb2",
   "metadata": {},
   "outputs": [],
   "source": [
    "from langchain_core.messages import AIMessage\n",
    "\n",
    "#상담사 역할\n",
    "def ai_assistant_node(messages):\n",
    "    #상담사 응답 호출\n",
    "    ai_response = call_chatbot(messages)\n",
    "\n",
    "    # AI 상담사의 응답을 반환\n",
    "    return {\"messages\":[(\"assistant\", ai_response)]}"
   ]
  },
  {
   "cell_type": "code",
   "execution_count": 76,
   "id": "5447fe25",
   "metadata": {},
   "outputs": [
    {
     "data": {
      "text/plain": [
       "{'messages': [('assistant',\n",
       "   '저희는 다양한 음식을 제공합니다. 다음은 저희 메뉴의 일부입니다:\\n\\n1. 비빔밥\\n2. 불고기\\n3. 김치찌개\\n4. 잡채\\n5. 삼겹살\\n\\n더 궁금한 점이나 주문하실 메뉴가 있으면 말씀해 주세요!')]}"
      ]
     },
     "execution_count": 76,
     "metadata": {},
     "output_type": "execute_result"
    }
   ],
   "source": [
    "# 상담사 역할의 노드 호출\n",
    "ai_assistant_node(\n",
    "    [\n",
    "        (\"user\", \"안녕하세요\"),\n",
    "        (\"assistant\", \"안녕하세요! 무엇을 주문하시겠습니까?\"),\n",
    "        (\"user\", \"어떤 메뉴가 있을까요?\")\n",
    "    ]\n",
    ")"
   ]
  },
  {
   "cell_type": "code",
   "execution_count": 77,
   "id": "734001bd",
   "metadata": {},
   "outputs": [],
   "source": [
    "def _swap_roles(messages):  \n",
    "    # 메시지의 역할을 교환: 시뮬레이션 사용자 단계에서 메시지 타입을 AI -> Human, Human -> AI 로 교환합니다.  \n",
    "    new_messages = []  \n",
    "    for m in messages:  \n",
    "        if isinstance(m, AIMessage):  \n",
    "            # AIMessage 인 경우, HumanMessage 로 변환합니다.  \n",
    "            new_messages.append(HumanMessage(content=m.content))  \n",
    "        else:  \n",
    "            # HumanMessage 인 경우, AIMessage 로 변환합니다.  \n",
    "            new_messages.append(AIMessage(content=m.content))  \n",
    "    return new_messages  \n",
    "\n",
    "\n",
    "# 상담사 역할(AI Assistant) 노드 정의  \n",
    "def ai_assistant_node(state: State):  \n",
    "    # 상담사 응답 호출  \n",
    "    ai_response = call_chatbot(state[\"messages\"])  \n",
    "\n",
    "    # AI 상담사의 응답을 반환  \n",
    "    return {\"messages\": [(\"assistant\", ai_response)]}  \n",
    "\n",
    "\n",
    "# 시뮬레이션된 사용자(Simulated User) 노드 정의  \n",
    "def simulated_user_node(state: State):  \n",
    "    # 메시지 타입을 교환: AI -> Human, Human -> AI  \n",
    "    new_messages = _swap_roles(state[\"messages\"])  \n",
    "\n",
    "    # 시뮬레이션된 사용자를 호출  \n",
    "    response = simulated_user.invoke({\"messages\": new_messages})  \n",
    "    return {\"messages\": [(\"user\", response)]}  \n"
   ]
  },
  {
   "cell_type": "code",
   "execution_count": 78,
   "id": "b71f2849",
   "metadata": {},
   "outputs": [],
   "source": [
    "def should_continue(state: State):  \n",
    "    # 메시지 리스트의 길이가 6보다 크면 'end'를 반환합니다.  \n",
    "    if len(state[\"messages\"]) > 6:  \n",
    "        return \"end\"  \n",
    "    # 마지막 메시지의 내용이 'FINISHED'라면 'end'를 반환합니다.  \n",
    "    elif state[\"messages\"][-1].content == \"FINISHED\":  \n",
    "        return \"end\"  \n",
    "    # 위의 조건에 해당하지 않으면 'continue'를 반환합니다.  \n",
    "    else:  \n",
    "        return \"continue\"  \n"
   ]
  },
  {
   "cell_type": "code",
   "execution_count": 79,
   "id": "3d6ab7c9",
   "metadata": {},
   "outputs": [],
   "source": [
    "from langgraph.graph import END, StateGraph  \n",
    "\n",
    "# StateGraph 인스턴스 생성\n",
    "graph_builder = StateGraph(State)  # grape_builder → graph_builder로 수정\n",
    "\n",
    "# 노드 정의\n",
    "graph_builder.add_node(\"simulated_user\", simulated_user_node)\n",
    "graph_builder.add_node(\"ai_assistant\", ai_assistant_node)\n",
    "\n",
    "# 조건부 엣지 정의\n",
    "graph_builder.add_conditional_edges(\n",
    "    \"simulated_user\",\n",
    "    should_continue,\n",
    "    {\n",
    "        \"end\": END, # 종료 조건이 충족되면 시뮬레이션을 중단\n",
    "        \"continue\": \"ai_assistant\", # 종료 조건이 충족되지 않으면 상담사 역할 노드로 메시지를 전달.\n",
    "    },\n",
    ")\n",
    "\n",
    "# 시작점 설정\n",
    "graph_builder.set_entry_point(\"ai_assistant\")\n",
    "\n",
    "# 그래프 컴파일\n",
    "simulation = graph_builder.compile()\n"
   ]
  },
  {
   "cell_type": "code",
   "execution_count": 80,
   "id": "99f70045",
   "metadata": {},
   "outputs": [
    {
     "data": {
      "image/png": "[encoded data removed]",
      "text/plain": [
       "<IPython.core.display.Image object>"
      ]
     },
     "metadata": {},
     "output_type": "display_data"
    }
   ],
   "source": [
    "from langchain_teddynote.graphs import visualize_graph  \n",
    "\n",
    "visualize_graph(simulation)  \n"
   ]
  },
  {
   "cell_type": "code",
   "execution_count": 81,
   "id": "7f2466a1",
   "metadata": {},
   "outputs": [
    {
     "name": "stdout",
     "output_type": "stream",
     "text": [
      "\n",
      "==================================================\n",
      "🔄 Node: \u001b[1;36mai_assistant\u001b[0m 🔄\n",
      "- - - - - - - - - - - - - - - - - - - - - - - - - \n",
      "안녕하세요! 샌드위치 주문 도와드리겠습니다. 어떤 종류의 샌드위치를 원하시나요?"
     ]
    }
   ],
   "source": [
    "from langchain_core.runnables import RunnableConfig  \n",
    "from langchain_teddynote.messages import stream_graph, random_uuid  \n",
    "\n",
    "\n",
    "# config 설정(재귀 최대 횟수, thread_id)  \n",
    "config = RunnableConfig(recursion_limit=10, configurable={\"thread_id\": random_uuid()})  \n",
    "\n",
    "# 입력 메시지 설정  \n",
    "inputs = {  \n",
    "    \"messages\": [HumanMessage(content=\"안녕하세요 샌드위치 주문하려고 합니다\")]  \n",
    "}  \n",
    "\n",
    "# 그래프 스트리밍  \n",
    "stream_graph(simulation, inputs, config, node_names=[\"simulated_user\", \"ai_assistant\"])  \n"
   ]
  },
  {
   "cell_type": "code",
   "execution_count": null,
   "id": "88991640",
   "metadata": {},
   "outputs": [],
   "source": []
  }
 ],
 "metadata": {
  "kernelspec": {
   "display_name": "env",
   "language": "python",
   "name": "python3"
  },
  "language_info": {
   "codemirror_mode": {
    "name": "ipython",
    "version": 3
   },
   "file_extension": ".py",
   "mimetype": "text/x-python",
   "name": "python",
   "nbconvert_exporter": "python",
   "pygments_lexer": "ipython3",
   "version": "3.11.0"
  }
 },
 "nbformat": 4,
 "nbformat_minor": 5
}
