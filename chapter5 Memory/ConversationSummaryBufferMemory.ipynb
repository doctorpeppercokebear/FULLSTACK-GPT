{
 "cells": [
  {
   "cell_type": "markdown",
   "metadata": {},
   "source": [
    "### Conversation Summary Buffer Memory\n",
    "\n",
    "'ConversationSummaryBufferMemory'는 두 가지 아이디어를 결합한 것입니다. 메모리에 최근 상호 작용의 버퍼를 저장하고 있지만 오래된 상호 작용을 완전히 플러싱하는 것이 아니라 요약으로 컴파일하여 두 가지를 모두 사용합니다. 상호 작용을 플러싱할 시점을 결정하기 위해 상호 작용의 수가 아니라 토큰 길이를 사용합니다."
   ]
  },
  {
   "cell_type": "code",
   "execution_count": 1,
   "metadata": {},
   "outputs": [],
   "source": [
    "# langchain.memory 모듈에서 ConversationSummaryBufferMemory 클래스와 \n",
    "# langchain.chat_models 모듈에서 ChatOpenAI 클래스를 가져옵니다.\n",
    "from langchain.memory import ConversationSummaryBufferMemory \n",
    "from langchain.chat_models import ChatOpenAI  \n",
    "\n",
    "# ChatOpenAI 인스턴스를 생성합니다. 이 모델은 응답을 생성하는 데 사용되며,\n",
    "# temperature 파라미터를 통해 응답의 랜덤성을 조절할 수 있습니다.\n",
    "# temperature 값이 낮을수록 더 결정론적인(예측 가능한) 결과를 생성합니다.\n",
    "llm = ChatOpenAI(temperature=0.1)\n",
    "\n",
    "# 대화 기록을 저장하고 요약하는 메모리 인스턴스를 생성합니다.\n",
    "memory = ConversationSummaryBufferMemory(\n",
    "    llm=llm,  # 메모리에 요약 기능을 제공하기 위해 위에서 생성한 LLM(ChatOpenAI) 인스턴스를 전달합니다.\n",
    "    max_token_limit=150,  # 요약 결과의 토큰 수를 150개로 제한하여 크기를 관리합니다.\n",
    "    return_messages=True,  # 메모리 접근 시 메시지 목록 형태로 반환되도록 설정합니다.\n",
    ")\n",
    "\n",
    "# 메모리에 대화 내용을 추가하는 함수를 정의합니다.\n",
    "def add_message(input, output):\n",
    "    # save_context 메서드는 사용자 입력(input)과 모델 응답(output)을 메모리에 저장합니다.\n",
    "    memory.save_context({\"input\": input}, {\"output\": output})\n",
    "\n",
    "# 저장된 대화 기록을 요약된 형태로 가져오는 함수를 정의합니다.\n",
    "def get_history():\n",
    "    # load_memory_variables 메서드는 저장된 대화 기록을 요약된 형태로 반환합니다.\n",
    "    return memory.load_memory_variables({})\n",
    "\n",
    "# add_message 함수를 사용해 대화 기록을 메모리에 추가합니다.\n",
    "add_message(\"Hi I'm Nicolas, I live in South Korea\", \"Wow that is so cool!\")\n"
   ]
  },
  {
   "cell_type": "code",
   "execution_count": 2,
   "metadata": {},
   "outputs": [
    {
     "data": {
      "text/plain": [
       "{'history': [HumanMessage(content=\"Hi I'm Nicolas, I live in South Korea\"),\n",
       "  AIMessage(content='Wow that is so cool!')]}"
      ]
     },
     "execution_count": 2,
     "metadata": {},
     "output_type": "execute_result"
    }
   ],
   "source": [
    "get_history()"
   ]
  },
  {
   "cell_type": "code",
   "execution_count": 3,
   "metadata": {},
   "outputs": [],
   "source": [
    "add_message(\"한국은 요즘 너무 추워요\", \"영하 10도가 넘어가고 있어요\")"
   ]
  },
  {
   "cell_type": "code",
   "execution_count": 4,
   "metadata": {},
   "outputs": [
    {
     "data": {
      "text/plain": [
       "{'history': [HumanMessage(content=\"Hi I'm Nicolas, I live in South Korea\"),\n",
       "  AIMessage(content='Wow that is so cool!'),\n",
       "  HumanMessage(content='한국은 요즘 너무 추워요'),\n",
       "  AIMessage(content='영하 10도가 넘어가고 있어요')]}"
      ]
     },
     "execution_count": 4,
     "metadata": {},
     "output_type": "execute_result"
    }
   ],
   "source": [
    "get_history()"
   ]
  },
  {
   "cell_type": "code",
   "execution_count": null,
   "metadata": {},
   "outputs": [],
   "source": []
  }
 ],
 "metadata": {
  "kernelspec": {
   "display_name": "env",
   "language": "python",
   "name": "python3"
  },
  "language_info": {
   "codemirror_mode": {
    "name": "ipython",
    "version": 3
   },
   "file_extension": ".py",
   "mimetype": "text/x-python",
   "name": "python",
   "nbconvert_exporter": "python",
   "pygments_lexer": "ipython3",
   "version": "3.11.0"
  }
 },
 "nbformat": 4,
 "nbformat_minor": 2
}
